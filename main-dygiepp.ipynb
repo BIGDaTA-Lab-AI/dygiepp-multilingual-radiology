{
 "cells": [
  {
   "cell_type": "markdown",
   "metadata": {
    "id": "blc2HNcZY4OT"
   },
   "source": [
    "# RadTr Code"
   ]
  },
  {
   "cell_type": "code",
   "execution_count": 10,
   "metadata": {},
   "outputs": [],
   "source": [
    "import gdown"
   ]
  },
  {
   "cell_type": "markdown",
   "metadata": {
    "id": "dKYU5U4NYt13"
   },
   "source": [
    "## Train"
   ]
  },
  {
   "cell_type": "code",
   "execution_count": null,
   "metadata": {},
   "outputs": [],
   "source": [
    "# download data\n",
    "gdown.download_folder('https://drive.google.com/drive/folders/1VWWRhxdKkHTvSWD1KreEEAKRcofOxqbo', quiet=False, output=\"data/radtr\")"
   ]
  },
  {
   "cell_type": "code",
   "execution_count": null,
   "metadata": {},
   "outputs": [],
   "source": [
    "# download pretrained model\n",
    "gdown.download_folder('https://drive.google.com/drive/folders/1a9yfhzAoBCL-FrfstP-CyYjxeE2dF7Kd', quiet=False, output=\"pretrained/BioBERTurk\")"
   ]
  },
  {
   "cell_type": "code",
   "execution_count": null,
   "metadata": {
    "id": "MonyUZeAO0Ac"
   },
   "outputs": [],
   "source": [
    "# train model\n",
    "# Warning: this will take approx 10 hours on a fast (A100) GPU. Set cuda_device: -1 in `training_config/radgraph.jsonnet` if computer has a GPU\n",
    "!rm -rf models/radtr\n",
    "!bash scripts/train.sh radtr"
   ]
  },
  {
   "cell_type": "markdown",
   "metadata": {
    "id": "k721JqacYwJ3"
   },
   "source": [
    "## Evaluate"
   ]
  },
  {
   "cell_type": "code",
   "execution_count": null,
   "metadata": {},
   "outputs": [],
   "source": [
    "# download trained model\n",
    "gdown.download_folder('https://drive.google.com/drive/folders/1F1Aq7SZXjaS-alTKIqMj8ZSh02-G8ed1', quiet=False, output=\"models/radtr-BioBERTurk-801\")"
   ]
  },
  {
   "cell_type": "code",
   "execution_count": null,
   "metadata": {
    "id": "OBVPFvCDreL9"
   },
   "outputs": [],
   "source": [
    "# evaluate radtr-BioBERTurk-801\n",
    "!allennlp evaluate \"models/radtr-BioBERTurk-801/model.tar.gz\" data/radtr/dev.json \\\n",
    "            --include-package dygie \\\n",
    "            # --output-file \"models/radtr-BioBERTurk-801/evaluation.jsonl\" \\\n",
    "            --cuda-device -1"
   ]
  },
  {
   "cell_type": "code",
   "execution_count": null,
   "metadata": {},
   "outputs": [],
   "source": []
  }
 ],
 "metadata": {
  "accelerator": "GPU",
  "colab": {
   "gpuType": "T4",
   "provenance": []
  },
  "kernelspec": {
   "display_name": "venv",
   "language": "python",
   "name": "python3"
  },
  "language_info": {
   "codemirror_mode": {
    "name": "ipython",
    "version": 3
   },
   "file_extension": ".py",
   "mimetype": "text/x-python",
   "name": "python",
   "nbconvert_exporter": "python",
   "pygments_lexer": "ipython3",
   "version": "3.7.9"
  }
 },
 "nbformat": 4,
 "nbformat_minor": 0
}
